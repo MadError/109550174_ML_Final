{
 "cells": [
  {
   "cell_type": "code",
   "execution_count": null,
   "metadata": {},
   "outputs": [],
   "source": [
    "%pip install -q keras"
   ]
  },
  {
   "cell_type": "code",
   "execution_count": 156,
   "metadata": {},
   "outputs": [
    {
     "name": "stdout",
     "output_type": "stream",
     "text": [
      "./109550174.ipynb\n",
      "./109550174_Final - 複製.ipynb\n",
      "./109550174_Final_inference.ipynb\n",
      "./109550174_Final_train.ipynb\n",
      "./final.h5\n",
      "./final_.h5\n",
      "./submission.csv\n",
      "./.git\\COMMIT_EDITMSG\n",
      "./.git\\config\n",
      "./.git\\description\n",
      "./.git\\HEAD\n",
      "./.git\\index\n",
      "./.git\\hooks\\applypatch-msg.sample\n",
      "./.git\\hooks\\commit-msg.sample\n",
      "./.git\\hooks\\fsmonitor-watchman.sample\n",
      "./.git\\hooks\\post-update.sample\n",
      "./.git\\hooks\\pre-applypatch.sample\n",
      "./.git\\hooks\\pre-commit.sample\n",
      "./.git\\hooks\\pre-merge-commit.sample\n",
      "./.git\\hooks\\pre-push.sample\n",
      "./.git\\hooks\\pre-rebase.sample\n",
      "./.git\\hooks\\pre-receive.sample\n",
      "./.git\\hooks\\prepare-commit-msg.sample\n",
      "./.git\\hooks\\push-to-checkout.sample\n",
      "./.git\\hooks\\update.sample\n",
      "./.git\\info\\exclude\n",
      "./.git\\logs\\HEAD\n",
      "./.git\\logs\\refs\\heads\\master\n",
      "./.git\\logs\\refs\\remotes\\origin\\master\n",
      "./.git\\objects\\24\\52cdb810b1551c1d57e042f9cdbce646ae2a17\n",
      "./.git\\objects\\26\\aee2458f78a39d2d848b1f3ae748401f777996\n",
      "./.git\\objects\\27\\f9fe4a6306df9dd3b5bb8d837ad28ee1296812\n",
      "./.git\\objects\\2d\\659aef932012d1f1736616ff216d3909f6b19a\n",
      "./.git\\objects\\31\\5cc7f53cc858b02f826b77ceae80650d766513\n",
      "./.git\\objects\\5a\\f0308a3a6a44cc1af2b045f9cfd73464e4e202\n",
      "./.git\\objects\\64\\8ba7183841f8c0ad4f596a0d3ca82fd142db21\n",
      "./.git\\objects\\6e\\39aa720cebb62e746c2250dea82f5d266f15be\n",
      "./.git\\objects\\99\\797fce5c09356898220755906087737ab80292\n",
      "./.git\\objects\\ab\\114ad476489eae55fb5b4fbc5871bf34bfefa5\n",
      "./.git\\objects\\ae\\69bb03e79d0af0b5adefbcbbc8c911b0aebd6d\n",
      "./.git\\objects\\b0\\a875986c15aa8567ed06fcc6ea28f31021ec63\n",
      "./.git\\objects\\b2\\5c5900d4f3a68539bd0a5813fa5005d1660c03\n",
      "./.git\\objects\\b7\\87a95421f312c14e8247ce8c7a4724f94d363b\n",
      "./.git\\objects\\b9\\9e88ea3b169b189bd007b8a1815166eeb1a570\n",
      "./.git\\objects\\c4\\7fa565903e279f30b1370421c733e41186c449\n",
      "./.git\\objects\\c6\\c683f81358ac859dfaed706ee16182910ecf08\n",
      "./.git\\objects\\cb\\638f47e8effbfd1603f18a2b8b30cc837f33c2\n",
      "./.git\\objects\\e9\\159e99943ae324d9fd4c1a84040ccfd35b4531\n",
      "./.git\\refs\\heads\\master\n",
      "./.git\\refs\\remotes\\origin\\master\n",
      "./tabular-playground-series-aug-2022\\sample_submission.csv\n",
      "./tabular-playground-series-aug-2022\\test.csv\n",
      "./tabular-playground-series-aug-2022\\train.csv\n"
     ]
    }
   ],
   "source": [
    "import numpy as np # linear algebra\n",
    "import pandas as pd # data processing, CSV file I/O (e.g. pd.read_csv)\n",
    "import matplotlib.pyplot as plt\n",
    "import tensorflow as tf\n",
    "from tensorflow import keras\n",
    "from sklearn.preprocessing import normalize\n",
    "from keras.layers import LeakyReLU\n",
    "\n",
    "# Input data files are available in the read-only \"../input/\" directory\n",
    "# For example, running this (by clicking run or pressing Shift+Enter) will list all files under the input directory\n",
    "\n",
    "import os\n",
    "for dirname, _, filenames in os.walk('./'):\n",
    "    for filename in filenames:\n",
    "        print(os.path.join(dirname, filename))"
   ]
  },
  {
   "cell_type": "code",
   "execution_count": 157,
   "metadata": {},
   "outputs": [],
   "source": [
    "pd.set_option('display.max_columns',26)\n",
    "from sklearn.pipeline import make_pipeline, Pipeline\n",
    "from sklearn.preprocessing import StandardScaler,robust_scale\n",
    "from sklearn.experimental import enable_iterative_imputer\n",
    "from sklearn.impute import SimpleImputer, KNNImputer, IterativeImputer\n",
    "from sklearn.metrics import roc_auc_score\n",
    "import matplotlib.pyplot as plt\n",
    "import gc"
   ]
  },
  {
   "cell_type": "code",
   "execution_count": 158,
   "metadata": {},
   "outputs": [
    {
     "name": "stderr",
     "output_type": "stream",
     "text": [
      "C:\\Users\\meng9\\AppData\\Local\\Temp\\ipykernel_2784\\3531699451.py:2: FutureWarning: Dropping of nuisance columns in DataFrame reductions (with 'numeric_only=None') is deprecated; in a future version this will raise TypeError.  Select only valid columns before calling the reduction.\n",
      "  train = train.fillna(train.mean())\n"
     ]
    }
   ],
   "source": [
    "train = pd.read_csv('./tabular-playground-series-aug-2022/train.csv').drop('id',axis=1)\n",
    "train = train.fillna(train.mean())"
   ]
  },
  {
   "cell_type": "code",
   "execution_count": 159,
   "metadata": {},
   "outputs": [],
   "source": [
    "X = train.drop(['failure', 'product_code', 'measurement_1', 'measurement_11', 'measurement_12', 'measurement_13', 'measurement_16'], axis=1).copy()\n",
    "y = train['failure'].copy()"
   ]
  },
  {
   "cell_type": "code",
   "execution_count": 160,
   "metadata": {},
   "outputs": [],
   "source": [
    "from sklearn.preprocessing import LabelEncoder, RobustScaler\n",
    "\n",
    "le = LabelEncoder()\n",
    "\n",
    "# training\n",
    "X['attribute_0'] = le.fit_transform(X['attribute_0'])\n",
    "X['attribute_1'] = le.fit_transform(X['attribute_1'])\n",
    "\n",
    "np_train = X.to_numpy()\n",
    "y = y.astype('int')"
   ]
  },
  {
   "cell_type": "code",
   "execution_count": 161,
   "metadata": {},
   "outputs": [
    {
     "name": "stdout",
     "output_type": "stream",
     "text": [
      "Epoch 1/30\n",
      "831/831 [==============================] - 4s 3ms/step - loss: 0.7399 - auc: 0.5100\n",
      "Epoch 2/30\n",
      "831/831 [==============================] - 3s 3ms/step - loss: 0.5352 - auc: 0.5346\n",
      "Epoch 3/30\n",
      "831/831 [==============================] - 3s 3ms/step - loss: 0.5213 - auc: 0.5439\n",
      "Epoch 4/30\n",
      "831/831 [==============================] - 3s 3ms/step - loss: 0.5248 - auc: 0.5418\n",
      "Epoch 5/30\n",
      "831/831 [==============================] - 3s 3ms/step - loss: 0.5203 - auc: 0.5494\n",
      "Epoch 6/30\n",
      "831/831 [==============================] - 3s 3ms/step - loss: 0.5162 - auc: 0.5627\n",
      "Epoch 7/30\n",
      "831/831 [==============================] - 3s 3ms/step - loss: 0.5152 - auc: 0.5615\n",
      "Epoch 8/30\n",
      "831/831 [==============================] - 3s 3ms/step - loss: 0.5140 - auc: 0.5661\n",
      "Epoch 9/30\n",
      "831/831 [==============================] - 3s 3ms/step - loss: 0.5149 - auc: 0.5635\n",
      "Epoch 10/30\n",
      "831/831 [==============================] - 3s 3ms/step - loss: 0.5127 - auc: 0.5697\n",
      "Epoch 11/30\n",
      "831/831 [==============================] - 3s 3ms/step - loss: 0.5141 - auc: 0.5685\n",
      "Epoch 12/30\n",
      "831/831 [==============================] - 3s 3ms/step - loss: 0.5130 - auc: 0.5688\n",
      "Epoch 13/30\n",
      "831/831 [==============================] - 3s 3ms/step - loss: 0.5127 - auc: 0.5711\n",
      "Epoch 14/30\n",
      "831/831 [==============================] - 3s 3ms/step - loss: 0.5120 - auc: 0.5765\n",
      "Epoch 15/30\n",
      "831/831 [==============================] - 3s 3ms/step - loss: 0.5117 - auc: 0.5767\n",
      "Epoch 16/30\n",
      "831/831 [==============================] - 3s 3ms/step - loss: 0.5122 - auc: 0.5764\n",
      "Epoch 17/30\n",
      "831/831 [==============================] - 3s 3ms/step - loss: 0.5118 - auc: 0.5778\n",
      "Epoch 18/30\n",
      "831/831 [==============================] - 2s 3ms/step - loss: 0.5111 - auc: 0.5793\n",
      "Epoch 19/30\n",
      "831/831 [==============================] - 2s 3ms/step - loss: 0.5114 - auc: 0.5767\n",
      "Epoch 20/30\n",
      "831/831 [==============================] - 3s 3ms/step - loss: 0.5108 - auc: 0.5793\n",
      "Epoch 21/30\n",
      "831/831 [==============================] - 3s 3ms/step - loss: 0.5113 - auc: 0.5785\n",
      "Epoch 22/30\n",
      "831/831 [==============================] - 2s 3ms/step - loss: 0.5105 - auc: 0.5830\n",
      "Epoch 23/30\n",
      "831/831 [==============================] - 3s 3ms/step - loss: 0.5110 - auc: 0.5797\n",
      "Epoch 24/30\n",
      "831/831 [==============================] - 3s 3ms/step - loss: 0.5104 - auc: 0.5822\n",
      "Epoch 25/30\n",
      "831/831 [==============================] - 2s 3ms/step - loss: 0.5103 - auc: 0.5834\n",
      "Epoch 26/30\n",
      "831/831 [==============================] - 3s 3ms/step - loss: 0.5104 - auc: 0.5820\n",
      "Epoch 27/30\n",
      "831/831 [==============================] - 3s 3ms/step - loss: 0.5105 - auc: 0.5821\n",
      "Epoch 28/30\n",
      "831/831 [==============================] - 3s 3ms/step - loss: 0.5107 - auc: 0.5815\n",
      "Epoch 29/30\n",
      "831/831 [==============================] - 2s 3ms/step - loss: 0.5103 - auc: 0.5823\n",
      "Epoch 30/30\n",
      "831/831 [==============================] - 3s 3ms/step - loss: 0.5102 - auc: 0.5830\n"
     ]
    }
   ],
   "source": [
    "model = tf.keras.models.Sequential([\n",
    "  tf.keras.layers.Flatten(input_shape=(18,)),\n",
    "  tf.keras.layers.Dense(128, activation=LeakyReLU(alpha=0.12)),\n",
    "  tf.keras.layers.Dense(128, activation=LeakyReLU(alpha=0.12)),\n",
    "  tf.keras.layers.Dense(128, activation=LeakyReLU(alpha=0.1)),\n",
    "  tf.keras.layers.Dense(128, activation=LeakyReLU(alpha=0.1)),\n",
    "  tf.keras.layers.Dense(1, activation=tf.nn.sigmoid)\n",
    "])\n",
    "model.compile(loss='binary_crossentropy',\n",
    "              optimizer='adam',\n",
    "              metrics=[keras.metrics.AUC(name='auc')])\n",
    "\n",
    "model.fit(X, y, epochs=30)\n",
    "\n",
    "model.save_weights('final.h5')\n",
    "\n"
   ]
  },
  {
   "cell_type": "code",
   "execution_count": 162,
   "metadata": {},
   "outputs": [
    {
     "name": "stdout",
     "output_type": "stream",
     "text": [
      "Model: \"sequential_27\"\n",
      "_________________________________________________________________\n",
      " Layer (type)                Output Shape              Param #   \n",
      "=================================================================\n",
      " flatten_27 (Flatten)        (None, 18)                0         \n",
      "                                                                 \n",
      " dense_135 (Dense)           (None, 128)               2432      \n",
      "                                                                 \n",
      " dense_136 (Dense)           (None, 128)               16512     \n",
      "                                                                 \n",
      " dense_137 (Dense)           (None, 128)               16512     \n",
      "                                                                 \n",
      " dense_138 (Dense)           (None, 128)               16512     \n",
      "                                                                 \n",
      " dense_139 (Dense)           (None, 1)                 129       \n",
      "                                                                 \n",
      "=================================================================\n",
      "Total params: 52,097\n",
      "Trainable params: 52,097\n",
      "Non-trainable params: 0\n",
      "_________________________________________________________________\n"
     ]
    }
   ],
   "source": [
    "model.summary()"
   ]
  }
 ],
 "metadata": {
  "kernelspec": {
   "display_name": "base",
   "language": "python",
   "name": "python3"
  },
  "language_info": {
   "codemirror_mode": {
    "name": "ipython",
    "version": 3
   },
   "file_extension": ".py",
   "mimetype": "text/x-python",
   "name": "python",
   "nbconvert_exporter": "python",
   "pygments_lexer": "ipython3",
   "version": "3.9.13"
  },
  "orig_nbformat": 4,
  "vscode": {
   "interpreter": {
    "hash": "6dbdc8942717e00ccbac21b7b843a443302b5eb736144a74b891785c8650ddad"
   }
  }
 },
 "nbformat": 4,
 "nbformat_minor": 2
}
