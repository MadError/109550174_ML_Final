{
 "cells": [
  {
   "cell_type": "code",
   "execution_count": null,
   "metadata": {},
   "outputs": [],
   "source": [
    "%pip install -q keras"
   ]
  },
  {
   "cell_type": "code",
   "execution_count": 137,
   "metadata": {},
   "outputs": [],
   "source": [
    "import numpy as np # linear algebra\n",
    "import pandas as pd # data processing, CSV file I/O (e.g. pd.read_csv)\n",
    "import matplotlib.pyplot as plt\n",
    "import tensorflow as tf\n",
    "from tensorflow import keras\n",
    "from sklearn.preprocessing import normalize\n",
    "from keras.layers import LeakyReLU\n",
    "pd.set_option('display.max_columns',26)\n",
    "from sklearn.pipeline import make_pipeline, Pipeline\n",
    "from sklearn.preprocessing import StandardScaler,robust_scale\n",
    "from sklearn.experimental import enable_iterative_imputer\n",
    "from sklearn.impute import SimpleImputer, KNNImputer, IterativeImputer\n",
    "from sklearn.metrics import roc_auc_score\n",
    "import matplotlib.pyplot as plt\n",
    "import gc"
   ]
  },
  {
   "cell_type": "code",
   "execution_count": 138,
   "metadata": {},
   "outputs": [
    {
     "name": "stderr",
     "output_type": "stream",
     "text": [
      "C:\\Users\\meng9\\AppData\\Local\\Temp\\ipykernel_24832\\1328114204.py:2: FutureWarning: Dropping of nuisance columns in DataFrame reductions (with 'numeric_only=None') is deprecated; in a future version this will raise TypeError.  Select only valid columns before calling the reduction.\n",
      "  test = test.fillna(test.mean())\n"
     ]
    }
   ],
   "source": [
    "test = pd.read_csv('./tabular-playground-series-aug-2022/test.csv').drop('id',axis=1)\n",
    "test = test.fillna(test.mean())\n",
    "test_df = pd.read_csv('./tabular-playground-series-aug-2022/test.csv')\n",
    "test = test.drop(['product_code', 'measurement_1', 'measurement_11', 'measurement_12', 'measurement_13', 'measurement_16'], axis=1).copy()"
   ]
  },
  {
   "cell_type": "code",
   "execution_count": 139,
   "metadata": {},
   "outputs": [],
   "source": [
    "from sklearn.preprocessing import LabelEncoder, RobustScaler\n",
    "\n",
    "le = LabelEncoder()\n",
    "\n",
    "test['attribute_0'] = le.fit_transform(test['attribute_0'])\n",
    "test['attribute_1'] = le.fit_transform(test['attribute_1'])"
   ]
  },
  {
   "cell_type": "code",
   "execution_count": 140,
   "metadata": {},
   "outputs": [],
   "source": [
    "model = tf.keras.models.Sequential([\n",
    "  tf.keras.layers.Flatten(input_shape=(18,)),\n",
    "  tf.keras.layers.Dense(128, activation=LeakyReLU(alpha=0.103)),\n",
    "  tf.keras.layers.Dense(128, activation=LeakyReLU(alpha=0.104)),\n",
    "  tf.keras.layers.Dense(128, activation=LeakyReLU(alpha=0.105)),\n",
    "  tf.keras.layers.Dense(128, activation=LeakyReLU(alpha=0.106)),\n",
    "  tf.keras.layers.Dense(1, activation=tf.nn.sigmoid)\n",
    "])\n",
    "model.load_weights('final.h5')"
   ]
  },
  {
   "cell_type": "code",
   "execution_count": 141,
   "metadata": {},
   "outputs": [
    {
     "name": "stdout",
     "output_type": "stream",
     "text": [
      "650/650 [==============================] - 1s 1ms/step\n"
     ]
    }
   ],
   "source": [
    "y_test = model.predict(test)\n",
    "submission = pd.DataFrame({'failure': y_test[:,0]}, index=test_df.id)\n",
    "submission.index.name = 'id'\n",
    "submission.to_csv('submission.csv')"
   ]
  }
 ],
 "metadata": {
  "kernelspec": {
   "display_name": "base",
   "language": "python",
   "name": "python3"
  },
  "language_info": {
   "codemirror_mode": {
    "name": "ipython",
    "version": 3
   },
   "file_extension": ".py",
   "mimetype": "text/x-python",
   "name": "python",
   "nbconvert_exporter": "python",
   "pygments_lexer": "ipython3",
   "version": "3.9.13"
  },
  "orig_nbformat": 4,
  "vscode": {
   "interpreter": {
    "hash": "6dbdc8942717e00ccbac21b7b843a443302b5eb736144a74b891785c8650ddad"
   }
  }
 },
 "nbformat": 4,
 "nbformat_minor": 2
}
